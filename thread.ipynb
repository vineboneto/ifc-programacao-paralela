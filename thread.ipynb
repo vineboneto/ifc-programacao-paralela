{
  "nbformat": 4,
  "nbformat_minor": 0,
  "metadata": {
    "colab": {
      "provenance": [],
      "collapsed_sections": [],
      "authorship_tag": "ABX9TyOkKYWLJakIkvZCSCwNn13w",
      "include_colab_link": true
    },
    "kernelspec": {
      "name": "python3",
      "display_name": "Python 3"
    },
    "language_info": {
      "name": "python"
    }
  },
  "cells": [
    {
      "cell_type": "markdown",
      "metadata": {
        "id": "view-in-github",
        "colab_type": "text"
      },
      "source": [
        "<a href=\"https://colab.research.google.com/github/vineboneto/ml/blob/main/thread.ipynb\" target=\"_parent\"><img src=\"https://colab.research.google.com/assets/colab-badge.svg\" alt=\"Open In Colab\"/></a>"
      ]
    },
    {
      "cell_type": "markdown",
      "source": [
        "# Ativdade #1"
      ],
      "metadata": {
        "id": "2cx4ttJESEHb"
      }
    },
    {
      "cell_type": "code",
      "execution_count": null,
      "metadata": {
        "colab": {
          "base_uri": "https://localhost:8080/"
        },
        "id": "H8Bpe88ZEwbX",
        "outputId": "2096e058-2892-4c7a-9876-0dd68d9759db"
      },
      "outputs": [
        {
          "output_type": "stream",
          "name": "stdout",
          "text": [
            "total: 500000500000\n"
          ]
        }
      ],
      "source": [
        "from threading import Thread\n",
        "\n",
        "NUM_THREADS = 4\n",
        "PARAMS = [(1, 250000), (250001, 500000), (500001, 750000), (750001, 1000000)]\n",
        "\n",
        "def task_sum(start, end, result):\n",
        "    total = sum(range(start, end + 1))\n",
        "    result.append(total)\n",
        "\n",
        "if __name__ == '__main__':\n",
        "    result = []\n",
        "    threads = []\n",
        "    \n",
        "    for i in range(NUM_THREADS):\n",
        "        thread = Thread(target=task_sum, args=(*PARAMS[i], result))\n",
        "        threads.append(thread)\n",
        "        thread.start()\n",
        "\n",
        "    for thread in threads:\n",
        "        thread.join()\n",
        "\n",
        "    print(f'total: {sum(result)}')\n",
        "\n"
      ]
    },
    {
      "cell_type": "code",
      "source": [
        "from threading import Thread, Lock\n",
        "from time import sleep\n",
        "from random import randint\n",
        "\n",
        "\n",
        "# Thread - Dorme 6s\n",
        "# 0 1; 1 - Artur\n",
        "# 1 2; 2 - Gabriel\n",
        "# 2 3; 3 - Vitor\n",
        "# 3 4; 4 - Neymar\n",
        "# 4 0; 5 - Dikstra\n",
        "\n",
        "\n",
        "class Filosofo(Thread):\n",
        "    pensando = True\n",
        "\n",
        "    def __init__(self, **kwargs):\n",
        "        Thread.__init__(self)\n",
        "        self.nome = kwargs.get(\"nome\")\n",
        "        self.tempo_comendo = kwargs.get(\"tempo_comendo\")\n",
        "        self.tempo_pensando = kwargs.get(\"tempo_pensando\")\n",
        "        self.garfo_esquerda = kwargs.get(\"garfo_esquerda\")\n",
        "        self.garfo_direita = kwargs.get(\"garfo_direita\")\n",
        "\n",
        "    def run(self):\n",
        "        while self.pensando:\n",
        "            print(f\"{self.nome} esta pensando por {self.tempo_pensando} segundos\")\n",
        "            sleep(self.tempo_pensando)\n",
        "            self.comer()\n",
        "\n",
        "    def comer(self):\n",
        "        garfo1, garfo2 = self.garfo_esquerda, self.garfo_direita\n",
        "\n",
        "        # Tenta pegar o primeiro garfo\n",
        "        garfo1.acquire(True)\n",
        "\n",
        "        # Se estiver livre retorna True e bloqueia\n",
        "        # Se estiver bloqueado retorna False\n",
        "        esta_livre = garfo2.acquire(False)\n",
        "\n",
        "        if esta_livre:\n",
        "            # Tempo comendo\n",
        "            print(f\"{self.nome} comecou a comer por {self.tempo_comendo} segundos\")\n",
        "            sleep(self.tempo_comendo)\n",
        "            print(f\"{self.nome} parou de comer e largou os garfos\")\n",
        "            garfo1.release()\n",
        "            garfo2.release()\n",
        "        else:\n",
        "            # Solta o garfo\n",
        "            print(f\"{self.nome} Nao conseguiu comer e soltou seu garfo\")\n",
        "            garfo1.release()\n",
        "\n",
        "\n",
        "if __name__ == \"__main__\":\n",
        "\n",
        "    nomes = (\"Arthur\", \"Gabriel\", \"Vitor\", \"Neymar\", \"Dijkstra\")\n",
        "\n",
        "    garfos = [Lock() for _ in range(5)]\n",
        "\n",
        "    mesa = [\n",
        "        Filosofo(\n",
        "            nome=nomes[i],\n",
        "            tempo_pensando=randint(1, 20),\n",
        "            tempo_comendo=randint(1, 20),\n",
        "            garfo_esquerda=garfos[i % 5],\n",
        "            garfo_direita=garfos[(i + 1) % 5],\n",
        "        )\n",
        "        for i in range(5)\n",
        "    ]\n",
        "\n",
        "    for filosofo in mesa:\n",
        "        filosofo.start()\n",
        "        sleep(1)\n",
        "\n",
        "\n",
        "\n",
        "\n",
        "\n",
        "\n",
        "\n",
        "\n"
      ],
      "metadata": {
        "id": "7m4fzY18IHYF"
      },
      "execution_count": null,
      "outputs": []
    },
    {
      "cell_type": "code",
      "source": [],
      "metadata": {
        "id": "JopT7M2MbEjw"
      },
      "execution_count": null,
      "outputs": []
    }
  ]
}